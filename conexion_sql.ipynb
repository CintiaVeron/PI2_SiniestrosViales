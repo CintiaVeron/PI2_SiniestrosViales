{
 "cells": [
  {
   "cell_type": "code",
   "execution_count": 16,
   "metadata": {},
   "outputs": [],
   "source": [
    "import pandas as pd\n",
    "\n",
    "import mysql.connector\n",
    "import csv"
   ]
  },
  {
   "cell_type": "code",
   "execution_count": 17,
   "metadata": {},
   "outputs": [
    {
     "name": "stdout",
     "output_type": "stream",
     "text": [
      "<class 'pandas.core.frame.DataFrame'>\n",
      "RangeIndex: 696 entries, 0 to 695\n",
      "Data columns (total 21 columns):\n",
      " #   Column                 Non-Null Count  Dtype         \n",
      "---  ------                 --------------  -----         \n",
      " 0   ID                     696 non-null    object        \n",
      " 1   N_VICTIMAS             696 non-null    int64         \n",
      " 2   FECHA                  696 non-null    datetime64[ns]\n",
      " 3   HORA                   696 non-null    object        \n",
      " 4   LUGAR_DEL_HECHO        696 non-null    object        \n",
      " 5   TIPO_DE_CALLE          696 non-null    object        \n",
      " 6   Calle                  696 non-null    object        \n",
      " 7   Cruce                  696 non-null    object        \n",
      " 8   Dirección Normalizada  688 non-null    object        \n",
      " 9   COMUNA                 696 non-null    int64         \n",
      " 10  XY (CABA)              696 non-null    object        \n",
      " 11  pos x                  696 non-null    object        \n",
      " 12  pos y                  696 non-null    object        \n",
      " 13  VICTIMA                696 non-null    object        \n",
      " 14  ACUSADO                696 non-null    object        \n",
      " 15  ID_hecho               696 non-null    object        \n",
      " 16  ROL                    696 non-null    object        \n",
      " 17  SEXO                   696 non-null    object        \n",
      " 18  EDAD                   696 non-null    int64         \n",
      " 19  SEMESTRE               696 non-null    int64         \n",
      " 20  AÑO                    696 non-null    int64         \n",
      "dtypes: datetime64[ns](1), int64(5), object(15)\n",
      "memory usage: 114.3+ KB\n"
     ]
    }
   ],
   "source": [
    "df_homicidios=pd.read_excel('homicidio_Eda.xlsx')\n",
    "df_homicidios.info()\n"
   ]
  },
  {
   "cell_type": "code",
   "execution_count": 18,
   "metadata": {},
   "outputs": [
    {
     "name": "stdout",
     "output_type": "stream",
     "text": [
      "Index(['ID', 'N_VICTIMAS', 'FECHA', 'HORA', 'LUGAR_DEL_HECHO', 'TIPO_DE_CALLE',\n",
      "       'Calle', 'Cruce', 'Dirección Normalizada', 'COMUNA', 'XY (CABA)',\n",
      "       'pos x', 'pos y', 'VICTIMA', 'ACUSADO', 'ID_hecho', 'ROL', 'SEXO',\n",
      "       'EDAD', 'SEMESTRE', 'AÑO'],\n",
      "      dtype='object')\n"
     ]
    }
   ],
   "source": [
    "print(df_homicidios.columns)"
   ]
  },
  {
   "cell_type": "code",
   "execution_count": 23,
   "metadata": {},
   "outputs": [],
   "source": [
    "import mysql.connector\n",
    "\n",
    "\n",
    "\n",
    "# Conectar a la base de datos MySQL\n",
    "conexion = mysql.connector.connect(user='root', password='12345',\n",
    "                                   host='127.0.0.1',\n",
    "                                   database='homicidios_viales')\n",
    "cursor = conexion.cursor()\n",
    "\n",
    "# Crear la tabla en la base de datos MySQL\n",
    "\n",
    "crear_tabla_query = \"\"\"\n",
    "CREATE TABLE IF NOT EXISTS homicidio (\n",
    "    ID VARCHAR(10) PRIMARY KEY,\n",
    "    N_VICTIMAS INT,\n",
    "    FECHA DATE,\n",
    "    HORA date,\n",
    "    LUGAR_DEL_HECHO VARCHAR(255),\n",
    "    TIPO_DE_CALLE VARCHAR(255),\n",
    "    Calle VARCHAR(255),\n",
    "    Cruce VARCHAR(255),\n",
    "    Dirección_Normalizada VARCHAR(255),\n",
    "    COMUNA INT,\n",
    "    XY_CABA VARCHAR(255),\n",
    "    pos_x VARCHAR(255),\n",
    "    pos_y VARCHAR(255),\n",
    "    VICTIMA VARCHAR(255),\n",
    "    ACUSADO VARCHAR(255),\n",
    "    ID_hecho VARCHAR(255),\n",
    "    ROL VARCHAR(255),\n",
    "    SEXO VARCHAR(255),\n",
    "    EDAD INT,\n",
    "    SEMESTRE INT,\n",
    "    AÑO INT\n",
    ")\n",
    "\"\"\"\n",
    "\n",
    "cursor.execute(crear_tabla_query)\n",
    "\n",
    "# Confirmar los cambios y cerrar la conexión\n",
    "conexion.commit()\n",
    "conexion.close()\n",
    "\n",
    "\n",
    "\n"
   ]
  }
 ],
 "metadata": {
  "kernelspec": {
   "display_name": "Python 3",
   "language": "python",
   "name": "python3"
  },
  "language_info": {
   "codemirror_mode": {
    "name": "ipython",
    "version": 3
   },
   "file_extension": ".py",
   "mimetype": "text/x-python",
   "name": "python",
   "nbconvert_exporter": "python",
   "pygments_lexer": "ipython3",
   "version": "3.11.0"
  }
 },
 "nbformat": 4,
 "nbformat_minor": 2
}

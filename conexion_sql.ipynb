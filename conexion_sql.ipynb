{
 "cells": [
  {
   "cell_type": "code",
   "execution_count": 1,
   "metadata": {},
   "outputs": [],
   "source": [
    "import pandas as pd\n",
    "\n",
    "import mysql.connector\n",
    "import csv"
   ]
  },
  {
   "cell_type": "code",
   "execution_count": 2,
   "metadata": {},
   "outputs": [
    {
     "name": "stdout",
     "output_type": "stream",
     "text": [
      "<class 'pandas.core.frame.DataFrame'>\n",
      "RangeIndex: 717 entries, 0 to 716\n",
      "Data columns (total 18 columns):\n",
      " #   Column                 Non-Null Count  Dtype \n",
      "---  ------                 --------------  ----- \n",
      " 0   ID                     717 non-null    object\n",
      " 1   N_VICTIMAS             717 non-null    int64 \n",
      " 2   FECHA                  717 non-null    object\n",
      " 3   HORA                   717 non-null    object\n",
      " 4   LUGAR_DEL_HECHO        717 non-null    object\n",
      " 5   TIPO_DE_CALLE          717 non-null    object\n",
      " 6   Calle                  716 non-null    object\n",
      " 7   Cruce                  540 non-null    object\n",
      " 8   Dirección Normalizada  708 non-null    object\n",
      " 9   COMUNA                 717 non-null    int64 \n",
      " 10  XY (CABA)              717 non-null    object\n",
      " 11  pos x                  717 non-null    object\n",
      " 12  pos y                  717 non-null    object\n",
      " 13  VICTIMA                717 non-null    object\n",
      " 14  ACUSADO                717 non-null    object\n",
      " 15  ROL                    717 non-null    object\n",
      " 16  SEXO                   717 non-null    object\n",
      " 17  EDAD                   717 non-null    object\n",
      "dtypes: int64(2), object(16)\n",
      "memory usage: 101.0+ KB\n"
     ]
    }
   ],
   "source": [
    "df_homicidios=pd.read_csv(\"csv/homicidio.csv\")\n",
    "df_homicidios.info()\n"
   ]
  },
  {
   "cell_type": "code",
   "execution_count": 3,
   "metadata": {},
   "outputs": [
    {
     "name": "stdout",
     "output_type": "stream",
     "text": [
      "Index(['ID', 'N_VICTIMAS', 'FECHA', 'HORA', 'LUGAR_DEL_HECHO', 'TIPO_DE_CALLE',\n",
      "       'Calle', 'Cruce', 'Dirección Normalizada', 'COMUNA', 'XY (CABA)',\n",
      "       'pos x', 'pos y', 'VICTIMA', 'ACUSADO', 'ROL', 'SEXO', 'EDAD'],\n",
      "      dtype='object')\n"
     ]
    }
   ],
   "source": [
    "print(df_homicidios.columns)"
   ]
  },
  {
   "cell_type": "code",
   "execution_count": 10,
   "metadata": {},
   "outputs": [],
   "source": [
    "\n",
    "# Conectar a la base de datos MySQL\n",
    "conexion = mysql.connector.connect(user='root', password='12345',\n",
    "                              host='127.0.0.1',\n",
    "                              database='homicidios_viales')\n",
    "cursor = conexion.cursor()\n",
    "\n",
    "# Nombre de la tabla\n",
    "nombre_tabla = 'homicidio'\n",
    "\n",
    "# Eliminar la tabla si ya existe\n",
    "eliminar_tabla_query = f\"DROP TABLE IF EXISTS {nombre_tabla}\"\n",
    "cursor.execute(eliminar_tabla_query)\n",
    "\n",
    "# Crear la tabla en la base de datos MySQL\n",
    "crear_tabla_query = \"\"\"\n",
    "CREATE TABLE homicidio (\n",
    "    ID VARCHAR(10) PRIMARY KEY,\n",
    "    N_VICTIMAS INT,\n",
    "    FECHA DATE,\n",
    "    HORA VARCHAR(255),\n",
    "    LUGAR_DEL_HECHO VARCHAR(255),\n",
    "    TIPO_DE_CALLE VARCHAR(255),\n",
    "    Calle VARCHAR(255),\n",
    "    Cruce VARCHAR(255),\n",
    "    Dirección_Normalizada VARCHAR(255),\n",
    "    COMUNA INT,\n",
    "    XY_CABA VARCHAR(255),\n",
    "    pos_x VARCHAR(255),\n",
    "    pos_y VARCHAR(255),\n",
    "    VICTIMA VARCHAR(255),\n",
    "    ACUSADO VARCHAR(255),\n",
    "    ROL VARCHAR(255),\n",
    "    SEXO VARCHAR(255),\n",
    "    EDAD VARCHAR(50)\n",
    ")\n",
    "\"\"\"\n",
    "\n",
    "\n",
    "\n",
    "# Crear la tabla\n",
    "cursor.execute(crear_tabla_query)\n",
    "\n"
   ]
  }
 ],
 "metadata": {
  "kernelspec": {
   "display_name": "Python 3",
   "language": "python",
   "name": "python3"
  },
  "language_info": {
   "codemirror_mode": {
    "name": "ipython",
    "version": 3
   },
   "file_extension": ".py",
   "mimetype": "text/x-python",
   "name": "python",
   "nbconvert_exporter": "python",
   "pygments_lexer": "ipython3",
   "version": "3.11.0"
  }
 },
 "nbformat": 4,
 "nbformat_minor": 2
}

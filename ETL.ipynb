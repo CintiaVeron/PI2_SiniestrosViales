{
 "cells": [
  {
   "cell_type": "markdown",
   "metadata": {},
   "source": [
    "ETL\n",
    "\n",
    "En este notebook abordaremos el proceso de extraccion ,tranformación y carga de los datasets brindados\n",
    "\n",
    "Datasets:\n",
    "se descarga el archivo homicidios.xlsx desde https://data.buenosaires.gob.ar/dataset/victimas-siniestros-viales\n",
    "ademas se descargo como material complementario la base de lesiones (lesiones)\n"
   ]
  },
  {
   "cell_type": "code",
   "execution_count": 62,
   "metadata": {},
   "outputs": [
    {
     "data": {
      "text/plain": [
       "dict_keys(['HECHOS', 'DICCIONARIO_HECHOS', 'VICTIMAS', 'DICCIONARIO_VICTIMAS', 'clas'])"
      ]
     },
     "execution_count": 62,
     "metadata": {},
     "output_type": "execute_result"
    }
   ],
   "source": [
    "import pandas as pd #IMPORTARMOS LA LIBRERIA CON LA QUE TRABAJEREMOS LOS DATOS\n",
    "\n",
    "#creamos la variable ruta donde alojamos el archivo en formato excel \n",
    "ruta=\"D:/usuarios/CIN/MIS DOCUMENTOS/Proyecto Integrador/Proyecto_Integrador2/datasets/homicidios.xlsx\"\n",
    "\n",
    "# SE Lee el archivo Excel, donde le pasamos los parametros ruta y sheet_name en None para que lea todas las hojas del archivo \n",
    "todas_las_hojas = pd.read_excel(ruta,sheet_name=None)\n",
    "\n",
    "#como pandas convierte el dataset en un diccionario , mostramos las claves con la sigueinte linea para ver que hojas del archivo dejar \n",
    "todas_las_hojas.keys()\n",
    "\n",
    "\n",
    "\n",
    "\n",
    "\n",
    "\n"
   ]
  },
  {
   "cell_type": "code",
   "execution_count": 63,
   "metadata": {},
   "outputs": [],
   "source": [
    "\n",
    "#vamos a dejar las hoja de Hechos y vamos a combinarla con la de victimas \n",
    "\n",
    "#cramos un dataframe de hechos y otro de victima\n",
    "\n",
    "hechos_df=todas_las_hojas['HECHOS']\n",
    "\n",
    "victimas_df=todas_las_hojas['VICTIMAS']\n"
   ]
  },
  {
   "cell_type": "code",
   "execution_count": 64,
   "metadata": {},
   "outputs": [
    {
     "name": "stdout",
     "output_type": "stream",
     "text": [
      "<class 'pandas.core.frame.DataFrame'>\n",
      "RangeIndex: 696 entries, 0 to 695\n",
      "Data columns (total 21 columns):\n",
      " #   Column                 Non-Null Count  Dtype         \n",
      "---  ------                 --------------  -----         \n",
      " 0   ID                     696 non-null    object        \n",
      " 1   N_VICTIMAS             696 non-null    int64         \n",
      " 2   FECHA                  696 non-null    datetime64[ns]\n",
      " 3   AAAA                   696 non-null    int64         \n",
      " 4   MM                     696 non-null    int64         \n",
      " 5   DD                     696 non-null    int64         \n",
      " 6   HORA                   696 non-null    object        \n",
      " 7   HH                     696 non-null    object        \n",
      " 8   LUGAR_DEL_HECHO        696 non-null    object        \n",
      " 9   TIPO_DE_CALLE          696 non-null    object        \n",
      " 10  Calle                  695 non-null    object        \n",
      " 11  Altura                 129 non-null    float64       \n",
      " 12  Cruce                  525 non-null    object        \n",
      " 13  Dirección Normalizada  688 non-null    object        \n",
      " 14  COMUNA                 696 non-null    int64         \n",
      " 15  XY (CABA)              696 non-null    object        \n",
      " 16  pos x                  696 non-null    object        \n",
      " 17  pos y                  696 non-null    object        \n",
      " 18  PARTICIPANTES          696 non-null    object        \n",
      " 19  VICTIMA                696 non-null    object        \n",
      " 20  ACUSADO                696 non-null    object        \n",
      "dtypes: datetime64[ns](1), float64(1), int64(5), object(14)\n",
      "memory usage: 114.3+ KB\n"
     ]
    }
   ],
   "source": [
    "#verificar informacion de la hoja \"hechos\"\n",
    "\n",
    "hechos_df.info()"
   ]
  },
  {
   "cell_type": "code",
   "execution_count": 65,
   "metadata": {},
   "outputs": [],
   "source": [
    "# eliminar las columnas que no vamos a necesitar \n",
    "hechos_df.drop(columns=['HH','AAAA','MM','DD','PARTICIPANTES'], inplace=True)"
   ]
  },
  {
   "cell_type": "code",
   "execution_count": 66,
   "metadata": {},
   "outputs": [
    {
     "name": "stdout",
     "output_type": "stream",
     "text": [
      "<class 'pandas.core.frame.DataFrame'>\n",
      "RangeIndex: 696 entries, 0 to 695\n",
      "Data columns (total 16 columns):\n",
      " #   Column                 Non-Null Count  Dtype         \n",
      "---  ------                 --------------  -----         \n",
      " 0   ID                     696 non-null    object        \n",
      " 1   N_VICTIMAS             696 non-null    int64         \n",
      " 2   FECHA                  696 non-null    datetime64[ns]\n",
      " 3   HORA                   696 non-null    object        \n",
      " 4   LUGAR_DEL_HECHO        696 non-null    object        \n",
      " 5   TIPO_DE_CALLE          696 non-null    object        \n",
      " 6   Calle                  695 non-null    object        \n",
      " 7   Altura                 129 non-null    float64       \n",
      " 8   Cruce                  525 non-null    object        \n",
      " 9   Dirección Normalizada  688 non-null    object        \n",
      " 10  COMUNA                 696 non-null    int64         \n",
      " 11  XY (CABA)              696 non-null    object        \n",
      " 12  pos x                  696 non-null    object        \n",
      " 13  pos y                  696 non-null    object        \n",
      " 14  VICTIMA                696 non-null    object        \n",
      " 15  ACUSADO                696 non-null    object        \n",
      "dtypes: datetime64[ns](1), float64(1), int64(2), object(12)\n",
      "memory usage: 87.1+ KB\n"
     ]
    }
   ],
   "source": [
    "hechos_df.info()"
   ]
  },
  {
   "cell_type": "code",
   "execution_count": 67,
   "metadata": {},
   "outputs": [
    {
     "name": "stdout",
     "output_type": "stream",
     "text": [
      "<class 'pandas.core.frame.DataFrame'>\n",
      "RangeIndex: 717 entries, 0 to 716\n",
      "Data columns (total 10 columns):\n",
      " #   Column               Non-Null Count  Dtype         \n",
      "---  ------               --------------  -----         \n",
      " 0   ID_hecho             717 non-null    object        \n",
      " 1   FECHA                717 non-null    datetime64[ns]\n",
      " 2   AAAA                 717 non-null    int64         \n",
      " 3   MM                   717 non-null    int64         \n",
      " 4   DD                   717 non-null    int64         \n",
      " 5   ROL                  717 non-null    object        \n",
      " 6   VICTIMA              717 non-null    object        \n",
      " 7   SEXO                 717 non-null    object        \n",
      " 8   EDAD                 717 non-null    object        \n",
      " 9   FECHA_FALLECIMIENTO  717 non-null    object        \n",
      "dtypes: datetime64[ns](1), int64(3), object(6)\n",
      "memory usage: 56.1+ KB\n"
     ]
    }
   ],
   "source": [
    "#verificar informacion de la hoja \"victimas\"\n",
    "victimas_df.info()"
   ]
  },
  {
   "cell_type": "code",
   "execution_count": 68,
   "metadata": {},
   "outputs": [],
   "source": [
    "# eliminar las columnas que no vamos a necesitar \n",
    "victimas_df.drop(columns=['FECHA','VICTIMA','AAAA','MM','DD','FECHA_FALLECIMIENTO'], inplace=True)"
   ]
  },
  {
   "cell_type": "code",
   "execution_count": 69,
   "metadata": {},
   "outputs": [
    {
     "name": "stdout",
     "output_type": "stream",
     "text": [
      "<class 'pandas.core.frame.DataFrame'>\n",
      "RangeIndex: 717 entries, 0 to 716\n",
      "Data columns (total 4 columns):\n",
      " #   Column    Non-Null Count  Dtype \n",
      "---  ------    --------------  ----- \n",
      " 0   ID_hecho  717 non-null    object\n",
      " 1   ROL       717 non-null    object\n",
      " 2   SEXO      717 non-null    object\n",
      " 3   EDAD      717 non-null    object\n",
      "dtypes: object(4)\n",
      "memory usage: 22.5+ KB\n"
     ]
    }
   ],
   "source": [
    "victimas_df.info()"
   ]
  },
  {
   "cell_type": "code",
   "execution_count": 70,
   "metadata": {},
   "outputs": [
    {
     "name": "stdout",
     "output_type": "stream",
     "text": [
      "<class 'pandas.core.frame.DataFrame'>\n",
      "RangeIndex: 717 entries, 0 to 716\n",
      "Data columns (total 20 columns):\n",
      " #   Column                 Non-Null Count  Dtype         \n",
      "---  ------                 --------------  -----         \n",
      " 0   ID                     717 non-null    object        \n",
      " 1   N_VICTIMAS             717 non-null    int64         \n",
      " 2   FECHA                  717 non-null    datetime64[ns]\n",
      " 3   HORA                   717 non-null    object        \n",
      " 4   LUGAR_DEL_HECHO        717 non-null    object        \n",
      " 5   TIPO_DE_CALLE          717 non-null    object        \n",
      " 6   Calle                  716 non-null    object        \n",
      " 7   Altura                 133 non-null    float64       \n",
      " 8   Cruce                  540 non-null    object        \n",
      " 9   Dirección Normalizada  708 non-null    object        \n",
      " 10  COMUNA                 717 non-null    int64         \n",
      " 11  XY (CABA)              717 non-null    object        \n",
      " 12  pos x                  717 non-null    object        \n",
      " 13  pos y                  717 non-null    object        \n",
      " 14  VICTIMA                717 non-null    object        \n",
      " 15  ACUSADO                717 non-null    object        \n",
      " 16  ID_hecho               717 non-null    object        \n",
      " 17  ROL                    717 non-null    object        \n",
      " 18  SEXO                   717 non-null    object        \n",
      " 19  EDAD                   717 non-null    object        \n",
      "dtypes: datetime64[ns](1), float64(1), int64(2), object(16)\n",
      "memory usage: 112.2+ KB\n"
     ]
    }
   ],
   "source": [
    "\n",
    "# Realiza un merge entre los dos dataframes utilizando el índice 'ID_hecho'\n",
    "\n",
    "df_homicidios = pd.merge(hechos_df, victimas_df, left_on='ID', right_on='ID_hecho', how='left')\n",
    "\n",
    "\n",
    "df_homicidios.info()"
   ]
  },
  {
   "cell_type": "code",
   "execution_count": 71,
   "metadata": {},
   "outputs": [
    {
     "name": "stdout",
     "output_type": "stream",
     "text": [
      "<class 'pandas.core.frame.DataFrame'>\n",
      "RangeIndex: 717 entries, 0 to 716\n",
      "Data columns (total 20 columns):\n",
      " #   Column                 Non-Null Count  Dtype         \n",
      "---  ------                 --------------  -----         \n",
      " 0   ID                     717 non-null    object        \n",
      " 1   N_VICTIMAS             717 non-null    int64         \n",
      " 2   FECHA                  717 non-null    datetime64[ns]\n",
      " 3   HORA                   717 non-null    object        \n",
      " 4   LUGAR_DEL_HECHO        717 non-null    object        \n",
      " 5   TIPO_DE_CALLE          717 non-null    object        \n",
      " 6   Calle                  716 non-null    object        \n",
      " 7   Altura                 133 non-null    float64       \n",
      " 8   Cruce                  540 non-null    object        \n",
      " 9   Dirección Normalizada  708 non-null    object        \n",
      " 10  COMUNA                 717 non-null    int64         \n",
      " 11  XY (CABA)              717 non-null    object        \n",
      " 12  pos x                  717 non-null    object        \n",
      " 13  pos y                  717 non-null    object        \n",
      " 14  VICTIMA                717 non-null    object        \n",
      " 15  ACUSADO                717 non-null    object        \n",
      " 16  ID_hecho               717 non-null    object        \n",
      " 17  ROL                    717 non-null    object        \n",
      " 18  SEXO                   717 non-null    object        \n",
      " 19  EDAD                   717 non-null    object        \n",
      "dtypes: datetime64[ns](1), float64(1), int64(2), object(16)\n",
      "memory usage: 112.2+ KB\n"
     ]
    }
   ],
   "source": [
    "df_homicidios.info()"
   ]
  },
  {
   "cell_type": "code",
   "execution_count": 72,
   "metadata": {},
   "outputs": [],
   "source": [
    "## cargamos  el archivo resultante  para poder realizar el EDA\n",
    "\n",
    "# Guarda el DataFrame concatenado como un archivo CSV\n",
    "df_homicidios.to_excel('homicidios.xlsx', index=False)\n"
   ]
  },
  {
   "cell_type": "code",
   "execution_count": 42,
   "metadata": {},
   "outputs": [
    {
     "name": "stdout",
     "output_type": "stream",
     "text": [
      "Valores nulos por columna:\n",
      "ID                         0\n",
      "N_VICTIMAS                 0\n",
      "FECHA                      0\n",
      "HORA                       0\n",
      "LUGAR_DEL_HECHO            0\n",
      "TIPO_DE_CALLE              0\n",
      "Calle                      1\n",
      "Cruce                    177\n",
      "Dirección Normalizada      9\n",
      "COMUNA                     0\n",
      "XY (CABA)                  0\n",
      "pos x                      0\n",
      "pos y                      0\n",
      "VICTIMA                    0\n",
      "ACUSADO                    0\n",
      "ID_hecho                   0\n",
      "ROL                        0\n",
      "SEXO                       0\n",
      "EDAD                       0\n",
      "dtype: int64\n",
      "\n",
      "Número total de valores nulos en el DataFrame: 187\n"
     ]
    }
   ],
   "source": [
    "#vamos a verificicar  si existen  valores nulos \n",
    "# Verificar valores nulos\n",
    "valores_nulos = df_homicidios.isnull()\n",
    "\n",
    "# Contar el número de valores nulos en cada columna\n",
    "num_valores_nulos_por_columna = valores_nulos.sum()\n",
    "\n",
    "# Contar el número total de valores nulos en el DataFrame\n",
    "num_valores_nulos_total = valores_nulos.sum().sum()\n",
    "\n",
    "# Imprimir los resultados\n",
    "print(\"Valores nulos por columna:\")\n",
    "print(num_valores_nulos_por_columna)\n",
    "print(\"\\nNúmero total de valores nulos en el DataFrame:\", num_valores_nulos_total)"
   ]
  },
  {
   "cell_type": "code",
   "execution_count": 48,
   "metadata": {},
   "outputs": [],
   "source": [
    "df_sin_nulos = df_homicidios.dropna(subset=['Cruce'])"
   ]
  },
  {
   "cell_type": "code",
   "execution_count": 49,
   "metadata": {},
   "outputs": [
    {
     "name": "stdout",
     "output_type": "stream",
     "text": [
      "Valores nulos por columna:\n",
      "ID                       0\n",
      "N_VICTIMAS               0\n",
      "FECHA                    0\n",
      "HORA                     0\n",
      "LUGAR_DEL_HECHO          0\n",
      "TIPO_DE_CALLE            0\n",
      "Calle                    0\n",
      "Cruce                    0\n",
      "Dirección Normalizada    0\n",
      "COMUNA                   0\n",
      "XY (CABA)                0\n",
      "pos x                    0\n",
      "pos y                    0\n",
      "VICTIMA                  0\n",
      "ACUSADO                  0\n",
      "ID_hecho                 0\n",
      "ROL                      0\n",
      "SEXO                     0\n",
      "EDAD                     0\n",
      "dtype: int64\n",
      "\n",
      "Número total de valores nulos en el DataFrame: 0\n"
     ]
    }
   ],
   "source": [
    "#vamos a verificicar  si existen  valores nulos \n",
    "# Verificar valores nulos\n",
    "valores_nulos = df_sin_nulos.isnull()\n",
    "\n",
    "# Contar el número de valores nulos en cada columna\n",
    "num_valores_nulos_por_columna = valores_nulos.sum()\n",
    "\n",
    "# Contar el número total de valores nulos en el DataFrame\n",
    "num_valores_nulos_total = valores_nulos.sum().sum()\n",
    "\n",
    "# Imprimir los resultados\n",
    "print(\"Valores nulos por columna:\")\n",
    "print(num_valores_nulos_por_columna)\n",
    "print(\"\\nNúmero total de valores nulos en el DataFrame:\", num_valores_nulos_total)"
   ]
  },
  {
   "cell_type": "code",
   "execution_count": 50,
   "metadata": {},
   "outputs": [],
   "source": []
  }
 ],
 "metadata": {
  "kernelspec": {
   "display_name": "Python 3",
   "language": "python",
   "name": "python3"
  },
  "language_info": {
   "codemirror_mode": {
    "name": "ipython",
    "version": 3
   },
   "file_extension": ".py",
   "mimetype": "text/x-python",
   "name": "python",
   "nbconvert_exporter": "python",
   "pygments_lexer": "ipython3",
   "version": "3.11.0"
  }
 },
 "nbformat": 4,
 "nbformat_minor": 2
}
